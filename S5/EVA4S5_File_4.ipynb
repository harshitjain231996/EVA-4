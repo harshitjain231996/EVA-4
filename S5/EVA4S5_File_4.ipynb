{
  "nbformat": 4,
  "nbformat_minor": 0,
  "metadata": {
    "colab": {
      "name": "EVA4S5_File_4.ipynb",
      "provenance": [],
      "collapsed_sections": []
    },
    "kernelspec": {
      "name": "python3",
      "display_name": "Python 3"
    },
    "accelerator": "GPU"
  },
  "cells": [
    {
      "cell_type": "markdown",
      "metadata": {
        "id": "i5fD2jc1RweA",
        "colab_type": "text"
      },
      "source": [
        "# Step 4\n",
        "\n",
        "### Target\n",
        "- Apply LR Scheduler  \n",
        "  In last attempt, the model accuracy was decreasing after 5th epoch so LR step is set to 5.\n",
        "\n",
        "### Result\n",
        "- Parameters: 9,142\n",
        "- Best Training Accuracy: 99.40\n",
        "- Best Test Accuracy: 99.38\n"
      ]
    },
    {
      "cell_type": "markdown",
      "metadata": {
        "id": "Rg1ZVZ8xHEXI",
        "colab_type": "text"
      },
      "source": [
        "# Installing Packages\n",
        "The following packages need to be installed before running the code below\n",
        "- torchsummary"
      ]
    },
    {
      "cell_type": "code",
      "metadata": {
        "id": "zMOoKk0OHEqe",
        "colab_type": "code",
        "outputId": "6e524703-cc28-4cfa-9552-3290de10a970",
        "colab": {
          "base_uri": "https://localhost:8080/",
          "height": 34
        }
      },
      "source": [
        "!pip install torchsummary"
      ],
      "execution_count": 0,
      "outputs": [
        {
          "output_type": "stream",
          "text": [
            "Requirement already satisfied: torchsummary in /usr/local/lib/python3.6/dist-packages (1.5.1)\n"
          ],
          "name": "stdout"
        }
      ]
    },
    {
      "cell_type": "markdown",
      "metadata": {
        "id": "aO-7t1Y7-hV4",
        "colab_type": "text"
      },
      "source": [
        "# Imports\n",
        "Importing necessary packages"
      ]
    },
    {
      "cell_type": "code",
      "metadata": {
        "id": "8kH16rnZ7wt_",
        "colab_type": "code",
        "colab": {}
      },
      "source": [
        "from __future__ import print_function\n",
        "\n",
        "import numpy as np\n",
        "import matplotlib.pyplot as plt\n",
        "import torch\n",
        "import torch.nn as nn\n",
        "import torch.nn.functional as F\n",
        "import torch.optim as optim\n",
        "\n",
        "from tqdm import tqdm\n",
        "from torch.optim.lr_scheduler import StepLR\n",
        "from torchsummary import summary\n",
        "from torchvision import datasets, transforms"
      ],
      "execution_count": 0,
      "outputs": []
    },
    {
      "cell_type": "markdown",
      "metadata": {
        "id": "OfOSzHr1GW2c",
        "colab_type": "text"
      },
      "source": [
        "# Dataset Preparation and Loading\n",
        "The following steps are performed for preparing the dataset for the model.\n",
        "- Downloading the MNIST dataset\n",
        "- Visualizing the dataset and the data statistics\n",
        "- Defining data transformations\n",
        "- Splitting the dataset into train and test set\n",
        "- Creating data loader for train and test set"
      ]
    },
    {
      "cell_type": "markdown",
      "metadata": {
        "id": "ffnfhydPLQk5",
        "colab_type": "text"
      },
      "source": [
        "## Data Visualization and Statistics\n",
        "Let's see how our data looks like and what are the mean and standard deviation values of the dataset. This information will help us decide the transformations that can be used on the dataset."
      ]
    },
    {
      "cell_type": "code",
      "metadata": {
        "id": "gaxNDurqLY4X",
        "colab_type": "code",
        "outputId": "2061ccfe-c8d5-4e14-e6b5-2ffdc301627e",
        "colab": {
          "base_uri": "https://localhost:8080/",
          "height": 416
        }
      },
      "source": [
        "# Download data\n",
        "sample_data = datasets.MNIST('./data', train=True, download=True).data\n",
        "\n",
        "# Setti32ng the values in the data to be within the range [0, 1]\n",
        "sample_data = sample_data.numpy() / 255\n",
        "\n",
        "# Display some data statistics\n",
        "print('Data Statistics:')\n",
        "print(' - Data Shape:', sample_data.shape)\n",
        "print(' - min:', np.min(sample_data))\n",
        "print(' - max:', np.max(sample_data))\n",
        "print(' - mean: %.4f' % np.mean(sample_data))\n",
        "print(' - std: %.4f' % np.std(sample_data))\n",
        "print(' - var: %.4f\\n' % np.var(sample_data))\n",
        "\n",
        "# Visualize a sample from the data\n",
        "plt.imshow(sample_data[0], cmap='gray_r')"
      ],
      "execution_count": 0,
      "outputs": [
        {
          "output_type": "stream",
          "text": [
            "Data Statistics:\n",
            " - Data Shape: (60000, 28, 28)\n",
            " - min: 0.0\n",
            " - max: 1.0\n",
            " - mean: 0.1307\n",
            " - std: 0.3081\n",
            " - var: 0.0949\n",
            "\n"
          ],
          "name": "stdout"
        },
        {
          "output_type": "execute_result",
          "data": {
            "text/plain": [
              "<matplotlib.image.AxesImage at 0x7f3c1cf7ee80>"
            ]
          },
          "metadata": {
            "tags": []
          },
          "execution_count": 60
        },
        {
          "output_type": "display_data",
          "data": {
            "image/png": "[encoded data removed]",
            "text/plain": [
              "<Figure size 432x288 with 1 Axes>"
            ]
          },
          "metadata": {
            "tags": []
          }
        }
      ]
    },
    {
      "cell_type": "markdown",
      "metadata": {
        "id": "7tClldqIR0zA",
        "colab_type": "text"
      },
      "source": [
        "Let's view some more images. This will help in getting any ideas for data augmentation later on"
      ]
    },
    {
      "cell_type": "code",
      "metadata": {
        "id": "k7TxQifTMYLC",
        "colab_type": "code",
        "outputId": "570ba03f-0df0-45d1-d674-b0a8e4997543",
        "colab": {
          "base_uri": "https://localhost:8080/",
          "height": 246
        }
      },
      "source": [
        "figure = plt.figure()\n",
        "num_of_images = 60\n",
        "for index in range(1, num_of_images + 1):\n",
        "    plt.subplot(6, 10, index)\n",
        "    plt.axis('off')\n",
        "    plt.imshow(sample_data[index], cmap='gray_r')"
      ],
      "execution_count": 0,
      "outputs": [
        {
          "output_type": "display_data",
          "data": {
            "image/png": "[encoded data removed]",
            "text/plain": [
              "<Figure size 432x288 with 60 Axes>"
            ]
          },
          "metadata": {
            "tags": []
          }
        }
      ]
    },
    {
      "cell_type": "markdown",
      "metadata": {
        "id": "grHT765783fO",
        "colab_type": "text"
      },
      "source": [
        "## Data Transformations\n",
        "\n",
        "The following transformations will be used\n",
        "- ToTensor\n",
        "- Normalize"
      ]
    },
    {
      "cell_type": "code",
      "metadata": {
        "id": "BSpchiU79LnW",
        "colab_type": "code",
        "colab": {}
      },
      "source": [
        "# Train phase transformations\n",
        "train_transforms = transforms.Compose([\n",
        "    # convert the data to torch.FloatTensor with values within the range [0.0 ,1.0]\n",
        "    transforms.ToTensor(),\n",
        "\n",
        "    # normalize the data with mean and standard deviation\n",
        "    # these values were obtained from the data statistics above\n",
        "    transforms.Normalize((0.1307,), (0.3081,))\n",
        "])\n",
        "\n",
        "# Test phase transformations\n",
        "test_transforms = transforms.Compose([\n",
        "    transforms.ToTensor(),\n",
        "    transforms.Normalize((0.1307,), (0.3081,))\n",
        "])"
      ],
      "execution_count": 0,
      "outputs": []
    },
    {
      "cell_type": "markdown",
      "metadata": {
        "id": "1g-Wd56S-3tg",
        "colab_type": "text"
      },
      "source": [
        "## Train Data and Test Data Split\n",
        "The data is downloaded and split into two sets: train and test"
      ]
    },
    {
      "cell_type": "code",
      "metadata": {
        "id": "NHJkLW3H_DZb",
        "colab_type": "code",
        "colab": {}
      },
      "source": [
        "train = datasets.MNIST('./data', train=True, download=True, transform=train_transforms)\n",
        "test = datasets.MNIST('./data', train=False, download=True, transform=test_transforms)"
      ],
      "execution_count": 0,
      "outputs": []
    },
    {
      "cell_type": "markdown",
      "metadata": {
        "id": "qFcWRAeY_MsB",
        "colab_type": "text"
      },
      "source": [
        "## Train and Test Dataloaders\n",
        "This is the final step in data preparation. It sets the dataloader arguments and then creates the dataloader"
      ]
    },
    {
      "cell_type": "code",
      "metadata": {
        "id": "uT2fytsOGNV2",
        "colab_type": "code",
        "outputId": "e6ef35d1-32eb-4b3a-b477-75751c35173e",
        "colab": {
          "base_uri": "https://localhost:8080/",
          "height": 34
        }
      },
      "source": [
        "SEED = 1\n",
        "\n",
        "cuda = torch.cuda.is_available()\n",
        "print('CUDA Available?', cuda)\n",
        "\n",
        "# For reproducibility of results\n",
        "torch.manual_seed(SEED)\n",
        "if cuda:\n",
        "    torch.cuda.manual_seed(SEED)\n",
        "\n",
        "# dataloader arguments\n",
        "dataloader_args = dict(shuffle=True, batch_size=64, num_workers=4, pin_memory=True) if cuda else dict(shuffle=True, batch_size=32)\n",
        "\n",
        "# train dataloader\n",
        "train_loader = torch.utils.data.DataLoader(train, **dataloader_args)\n",
        "\n",
        "# test dataloader\n",
        "test_loader = torch.utils.data.DataLoader(test, **dataloader_args)"
      ],
      "execution_count": 0,
      "outputs": [
        {
          "output_type": "stream",
          "text": [
            "CUDA Available? True\n"
          ],
          "name": "stdout"
        }
      ]
    },
    {
      "cell_type": "markdown",
      "metadata": {
        "id": "HSeDIqBq-6pC",
        "colab_type": "text"
      },
      "source": [
        "# Model Architecture\n",
        "Designing the model structure"
      ]
    },
    {
      "cell_type": "code",
      "metadata": {
        "id": "f-fLk9QHJGFt",
        "colab_type": "code",
        "colab": {}
      },
      "source": [
        "class Net(nn.Module):\n",
        "    def __init__(self):\n",
        "        \"\"\" This function instantiates all the model layers \"\"\"\n",
        "        super(Net, self).__init__()\n",
        "\n",
        "        self.convblock1 = nn.Sequential(\n",
        "            nn.Conv2d(in_channels=1, out_channels=8, kernel_size=3),\n",
        "            nn.ReLU(),\n",
        "            nn.BatchNorm2d(8)\n",
        "        )  # Input: 28x28x1 | Output: 26x26x8 | RF: 3x3\n",
        "\n",
        "        self.convblock2 = nn.Sequential(\n",
        "            nn.Conv2d(in_channels=8, out_channels=8, kernel_size=3),\n",
        "            nn.ReLU(),\n",
        "            nn.BatchNorm2d(8)\n",
        "        )  # Input: 26x26x8 | Output: 24x24x8 | RF: 5x5\n",
        "\n",
        "        self.convblock3 = nn.Sequential(\n",
        "            nn.Conv2d(in_channels=8, out_channels=16, kernel_size=3),\n",
        "            nn.ReLU(),\n",
        "            nn.BatchNorm2d(16)\n",
        "        )  # Input: 24x24x8 | Output: 22x22x16 | RF: 7x7\n",
        "\n",
        "        self.convblock4 = nn.Sequential(\n",
        "            nn.Conv2d(in_channels=16, out_channels=16, kernel_size=3),\n",
        "            nn.ReLU(),\n",
        "            nn.BatchNorm2d(16)\n",
        "        )  # Input: 22x22x16 | Output: 20x20x16 | RF: 9x9\n",
        "\n",
        "        self.pool = nn.MaxPool2d(2, 2)  # Input: 20x20x16 | Output: 10x10x16 | RF: 10x10\n",
        "\n",
        "        self.convblock5 = nn.Sequential(\n",
        "            nn.Conv2d(in_channels=16, out_channels=16, kernel_size=3),\n",
        "            nn.ReLU(),\n",
        "            nn.BatchNorm2d(16)\n",
        "        )  # Input: 10x10x16 | Output: 8x8x16 | RF: 14x14\n",
        "\n",
        "        self.convblock6 = nn.Sequential(\n",
        "            nn.Conv2d(in_channels=16, out_channels=16, kernel_size=3),\n",
        "            nn.ReLU(),\n",
        "            nn.BatchNorm2d(16)\n",
        "        )  # Input: 8x8x16 | Output: 6x6x16 | RF: 18x18\n",
        "\n",
        "        self.convblock7 = nn.Sequential(\n",
        "            nn.Conv2d(in_channels=16, out_channels=10, kernel_size=1),\n",
        "            nn.ReLU(),\n",
        "            nn.BatchNorm2d(10)\n",
        "        )  # Input: 6x6x16 | Output: 6x6x10 | RF: 18x18\n",
        "\n",
        "        self.gap = nn.Sequential(\n",
        "            nn.AdaptiveAvgPool2d(1)\n",
        "        )  # Input: 6x6x10 | Output: 1x1x10 | RF: 28x28\n",
        "    \n",
        "    def forward(self, x):\n",
        "        \"\"\" This function defines the network structure \"\"\"\n",
        "        x = self.convblock1(x)\n",
        "        x = self.convblock2(x)\n",
        "        x = self.convblock3(x)\n",
        "        x = self.convblock4(x)\n",
        "        x = self.pool(x)\n",
        "        x = self.convblock5(x)\n",
        "        x = self.convblock6(x)\n",
        "        x = self.convblock7(x)\n",
        "        x = self.gap(x)\n",
        "        x = x.view(-1, 10)\n",
        "        return F.log_softmax(x, dim=-1)"
      ],
      "execution_count": 0,
      "outputs": []
    },
    {
      "cell_type": "markdown",
      "metadata": {
        "id": "-yrNmc72D5yE",
        "colab_type": "text"
      },
      "source": [
        "## Model Parameters\n",
        "Let's see the model summary"
      ]
    },
    {
      "cell_type": "code",
      "metadata": {
        "id": "FJGvqMnvFvLb",
        "colab_type": "code",
        "outputId": "e878a5ca-7e26-4e63-fcbf-d1ed6bff0cf8",
        "colab": {
          "base_uri": "https://localhost:8080/",
          "height": 638
        }
      },
      "source": [
        "use_cuda = torch.cuda.is_available()\n",
        "device = torch.device(\"cuda\" if use_cuda else \"cpu\")\n",
        "print(device)\n",
        "model = Net().to(device)\n",
        "summary(model, input_size=(1, 28, 28))"
      ],
      "execution_count": 0,
      "outputs": [
        {
          "output_type": "stream",
          "text": [
            "cuda\n",
            "----------------------------------------------------------------\n",
            "        Layer (type)               Output Shape         Param #\n",
            "================================================================\n",
            "            Conv2d-1            [-1, 8, 26, 26]              80\n",
            "              ReLU-2            [-1, 8, 26, 26]               0\n",
            "       BatchNorm2d-3            [-1, 8, 26, 26]              16\n",
            "            Conv2d-4            [-1, 8, 24, 24]             584\n",
            "              ReLU-5            [-1, 8, 24, 24]               0\n",
            "       BatchNorm2d-6            [-1, 8, 24, 24]              16\n",
            "            Conv2d-7           [-1, 16, 22, 22]           1,168\n",
            "              ReLU-8           [-1, 16, 22, 22]               0\n",
            "       BatchNorm2d-9           [-1, 16, 22, 22]              32\n",
            "           Conv2d-10           [-1, 16, 20, 20]           2,320\n",
            "             ReLU-11           [-1, 16, 20, 20]               0\n",
            "      BatchNorm2d-12           [-1, 16, 20, 20]              32\n",
            "        MaxPool2d-13           [-1, 16, 10, 10]               0\n",
            "           Conv2d-14             [-1, 16, 8, 8]           2,320\n",
            "             ReLU-15             [-1, 16, 8, 8]               0\n",
            "      BatchNorm2d-16             [-1, 16, 8, 8]              32\n",
            "           Conv2d-17             [-1, 16, 6, 6]           2,320\n",
            "             ReLU-18             [-1, 16, 6, 6]               0\n",
            "      BatchNorm2d-19             [-1, 16, 6, 6]              32\n",
            "           Conv2d-20             [-1, 10, 6, 6]             170\n",
            "             ReLU-21             [-1, 10, 6, 6]               0\n",
            "      BatchNorm2d-22             [-1, 10, 6, 6]              20\n",
            "AdaptiveAvgPool2d-23             [-1, 10, 1, 1]               0\n",
            "================================================================\n",
            "Total params: 9,142\n",
            "Trainable params: 9,142\n",
            "Non-trainable params: 0\n",
            "----------------------------------------------------------------\n",
            "Input size (MB): 0.00\n",
            "Forward/backward pass size (MB): 0.61\n",
            "Params size (MB): 0.03\n",
            "Estimated Total Size (MB): 0.65\n",
            "----------------------------------------------------------------\n"
          ],
          "name": "stdout"
        }
      ]
    },
    {
      "cell_type": "markdown",
      "metadata": {
        "id": "HcyKrcQEGcdp",
        "colab_type": "text"
      },
      "source": [
        "# Model Training and Evaluation\n",
        "Training the model and testing it on the test dataset"
      ]
    },
    {
      "cell_type": "code",
      "metadata": {
        "id": "1N1CK2-eF1Y7",
        "colab_type": "code",
        "colab": {}
      },
      "source": [
        "train_losses, train_accuracies = [], []\n",
        "test_losses, test_accuracies = [], []\n",
        "\n",
        "def train(model, device, train_loader, optimizer, epoch):\n",
        "    model.train()\n",
        "    pbar = tqdm(train_loader)\n",
        "    correct = 0\n",
        "    processed = 0\n",
        "    for batch_idx, (data, target) in enumerate(pbar):\n",
        "        # Get samples\n",
        "        data, target = data.to(device), target.to(device)\n",
        "\n",
        "        # Set gradients to zero before starting backpropagation\n",
        "        optimizer.zero_grad()\n",
        "\n",
        "        # Predict output\n",
        "        y_pred = model(data)\n",
        "\n",
        "        # Calculate loss\n",
        "        loss = F.nll_loss(y_pred, target)\n",
        "        train_losses.append(loss)\n",
        "\n",
        "        # Perform backpropagation\n",
        "        loss.backward()\n",
        "        optimizer.step()\n",
        "\n",
        "        # Update Progress Bar\n",
        "        pred = y_pred.argmax(dim=1, keepdim=True)\n",
        "        correct += pred.eq(target.view_as(pred)).sum().item()\n",
        "        processed += len(data)\n",
        "        train_accuracies.append(100 * correct / processed)\n",
        "        pbar.set_description(desc=f'Loss={loss.item():0.2f} Batch_ID={batch_idx} Accuracy={train_accuracies[-1]:.2f}')\n",
        "\n",
        "\n",
        "def test(model, device, test_loader):\n",
        "    model.eval()\n",
        "    test_loss = 0\n",
        "    correct = 0\n",
        "    with torch.no_grad():\n",
        "        for data, target in test_loader:\n",
        "            data, target = data.to(device), target.to(device)\n",
        "            output = model(data)\n",
        "            test_loss += F.nll_loss(output, target, reduction='sum').item()  # sum up batch loss\n",
        "            pred = output.argmax(dim=1, keepdim=True)  # get the index of the max log-probability\n",
        "            correct += pred.eq(target.view_as(pred)).sum().item()\n",
        "\n",
        "    test_loss /= len(test_loader.dataset)\n",
        "    test_losses.append(test_loss)\n",
        "    test_accuracies.append(100. * correct / len(test_loader.dataset))\n",
        "\n",
        "    print(f'\\nTest set: Average loss: {test_loss:.4f}, Accuracy: {correct}/{len(test_loader.dataset)} ({test_accuracies[-1]:.2f}%)\\n')"
      ],
      "execution_count": 0,
      "outputs": []
    },
    {
      "cell_type": "code",
      "metadata": {
        "id": "vddk65TZGeZx",
        "colab_type": "code",
        "outputId": "32c73bb0-2edd-4555-9539-0a05a7976db4",
        "colab": {
          "base_uri": "https://localhost:8080/",
          "height": 1000
        }
      },
      "source": [
        "model = Net().to(device)\n",
        "optimizer = optim.SGD(model.parameters(), lr=0.01, momentum=0.9)\n",
        "scheduler = StepLR(optimizer, step_size=5, gamma=0.15)\n",
        "epochs = 15\n",
        "\n",
        "for epoch in range(1, epochs + 1):\n",
        "    print(f'Epoch {epoch}:')\n",
        "    train(model, device, train_loader, optimizer, epoch)\n",
        "    scheduler.step()\n",
        "    test(model, device, test_loader)"
      ],
      "execution_count": 0,
      "outputs": [
        {
          "output_type": "stream",
          "text": [
            "\r  0%|          | 0/938 [00:00<?, ?it/s]"
          ],
          "name": "stderr"
        },
        {
          "output_type": "stream",
          "text": [
            "Epoch 1:\n"
          ],
          "name": "stdout"
        },
        {
          "output_type": "stream",
          "text": [
            "Loss=0.19 Batch_ID=937 Accuracy=94.11: 100%|██████████| 938/938 [00:17<00:00, 53.91it/s]\n",
            "  0%|          | 0/938 [00:00<?, ?it/s]"
          ],
          "name": "stderr"
        },
        {
          "output_type": "stream",
          "text": [
            "\n",
            "Test set: Average loss: 0.0814, Accuracy: 9843/10000 (98.43%)\n",
            "\n",
            "Epoch 2:\n"
          ],
          "name": "stdout"
        },
        {
          "output_type": "stream",
          "text": [
            "Loss=0.07 Batch_ID=937 Accuracy=97.98: 100%|██████████| 938/938 [00:17<00:00, 59.90it/s]\n",
            "  0%|          | 0/938 [00:00<?, ?it/s]"
          ],
          "name": "stderr"
        },
        {
          "output_type": "stream",
          "text": [
            "\n",
            "Test set: Average loss: 0.0620, Accuracy: 9856/10000 (98.56%)\n",
            "\n",
            "Epoch 3:\n"
          ],
          "name": "stdout"
        },
        {
          "output_type": "stream",
          "text": [
            "Loss=0.02 Batch_ID=937 Accuracy=98.44: 100%|██████████| 938/938 [00:16<00:00, 56.01it/s]\n",
            "  0%|          | 0/938 [00:00<?, ?it/s]"
          ],
          "name": "stderr"
        },
        {
          "output_type": "stream",
          "text": [
            "\n",
            "Test set: Average loss: 0.0523, Accuracy: 9868/10000 (98.68%)\n",
            "\n",
            "Epoch 4:\n"
          ],
          "name": "stdout"
        },
        {
          "output_type": "stream",
          "text": [
            "Loss=0.01 Batch_ID=937 Accuracy=98.68: 100%|██████████| 938/938 [00:17<00:00, 54.90it/s]\n",
            "  0%|          | 0/938 [00:00<?, ?it/s]"
          ],
          "name": "stderr"
        },
        {
          "output_type": "stream",
          "text": [
            "\n",
            "Test set: Average loss: 0.0380, Accuracy: 9898/10000 (98.98%)\n",
            "\n",
            "Epoch 5:\n"
          ],
          "name": "stdout"
        },
        {
          "output_type": "stream",
          "text": [
            "Loss=0.03 Batch_ID=937 Accuracy=98.80: 100%|██████████| 938/938 [00:16<00:00, 55.33it/s]\n",
            "  0%|          | 0/938 [00:00<?, ?it/s]"
          ],
          "name": "stderr"
        },
        {
          "output_type": "stream",
          "text": [
            "\n",
            "Test set: Average loss: 0.0327, Accuracy: 9918/10000 (99.18%)\n",
            "\n",
            "Epoch 6:\n"
          ],
          "name": "stdout"
        },
        {
          "output_type": "stream",
          "text": [
            "Loss=0.01 Batch_ID=937 Accuracy=99.15: 100%|██████████| 938/938 [00:16<00:00, 58.32it/s]\n",
            "  0%|          | 0/938 [00:00<?, ?it/s]"
          ],
          "name": "stderr"
        },
        {
          "output_type": "stream",
          "text": [
            "\n",
            "Test set: Average loss: 0.0266, Accuracy: 9931/10000 (99.31%)\n",
            "\n",
            "Epoch 7:\n"
          ],
          "name": "stdout"
        },
        {
          "output_type": "stream",
          "text": [
            "Loss=0.02 Batch_ID=937 Accuracy=99.24: 100%|██████████| 938/938 [00:16<00:00, 57.60it/s]\n",
            "  0%|          | 0/938 [00:00<?, ?it/s]"
          ],
          "name": "stderr"
        },
        {
          "output_type": "stream",
          "text": [
            "\n",
            "Test set: Average loss: 0.0250, Accuracy: 9936/10000 (99.36%)\n",
            "\n",
            "Epoch 8:\n"
          ],
          "name": "stdout"
        },
        {
          "output_type": "stream",
          "text": [
            "Loss=0.15 Batch_ID=937 Accuracy=99.28: 100%|██████████| 938/938 [00:16<00:00, 56.92it/s]\n",
            "  0%|          | 0/938 [00:00<?, ?it/s]"
          ],
          "name": "stderr"
        },
        {
          "output_type": "stream",
          "text": [
            "\n",
            "Test set: Average loss: 0.0260, Accuracy: 9928/10000 (99.28%)\n",
            "\n",
            "Epoch 9:\n"
          ],
          "name": "stdout"
        },
        {
          "output_type": "stream",
          "text": [
            "Loss=0.05 Batch_ID=937 Accuracy=99.28: 100%|██████████| 938/938 [00:16<00:00, 57.07it/s]\n",
            "  0%|          | 0/938 [00:00<?, ?it/s]"
          ],
          "name": "stderr"
        },
        {
          "output_type": "stream",
          "text": [
            "\n",
            "Test set: Average loss: 0.0245, Accuracy: 9933/10000 (99.33%)\n",
            "\n",
            "Epoch 10:\n"
          ],
          "name": "stdout"
        },
        {
          "output_type": "stream",
          "text": [
            "Loss=0.04 Batch_ID=937 Accuracy=99.34: 100%|██████████| 938/938 [00:16<00:00, 57.03it/s]\n",
            "  0%|          | 0/938 [00:00<?, ?it/s]"
          ],
          "name": "stderr"
        },
        {
          "output_type": "stream",
          "text": [
            "\n",
            "Test set: Average loss: 0.0233, Accuracy: 9936/10000 (99.36%)\n",
            "\n",
            "Epoch 11:\n"
          ],
          "name": "stdout"
        },
        {
          "output_type": "stream",
          "text": [
            "Loss=0.01 Batch_ID=937 Accuracy=99.37: 100%|██████████| 938/938 [00:16<00:00, 55.96it/s]\n",
            "  0%|          | 0/938 [00:00<?, ?it/s]"
          ],
          "name": "stderr"
        },
        {
          "output_type": "stream",
          "text": [
            "\n",
            "Test set: Average loss: 0.0241, Accuracy: 9935/10000 (99.35%)\n",
            "\n",
            "Epoch 12:\n"
          ],
          "name": "stdout"
        },
        {
          "output_type": "stream",
          "text": [
            "Loss=0.02 Batch_ID=937 Accuracy=99.40: 100%|██████████| 938/938 [00:16<00:00, 56.36it/s]\n",
            "  0%|          | 0/938 [00:00<?, ?it/s]"
          ],
          "name": "stderr"
        },
        {
          "output_type": "stream",
          "text": [
            "\n",
            "Test set: Average loss: 0.0253, Accuracy: 9933/10000 (99.33%)\n",
            "\n",
            "Epoch 13:\n"
          ],
          "name": "stdout"
        },
        {
          "output_type": "stream",
          "text": [
            "Loss=0.01 Batch_ID=937 Accuracy=99.38: 100%|██████████| 938/938 [00:16<00:00, 56.53it/s]\n",
            "  0%|          | 0/938 [00:00<?, ?it/s]"
          ],
          "name": "stderr"
        },
        {
          "output_type": "stream",
          "text": [
            "\n",
            "Test set: Average loss: 0.0235, Accuracy: 9938/10000 (99.38%)\n",
            "\n",
            "Epoch 14:\n"
          ],
          "name": "stdout"
        },
        {
          "output_type": "stream",
          "text": [
            "Loss=0.01 Batch_ID=937 Accuracy=99.39: 100%|██████████| 938/938 [00:16<00:00, 56.27it/s]\n",
            "  0%|          | 0/938 [00:00<?, ?it/s]"
          ],
          "name": "stderr"
        },
        {
          "output_type": "stream",
          "text": [
            "\n",
            "Test set: Average loss: 0.0242, Accuracy: 9935/10000 (99.35%)\n",
            "\n",
            "Epoch 15:\n"
          ],
          "name": "stdout"
        },
        {
          "output_type": "stream",
          "text": [
            "Loss=0.01 Batch_ID=937 Accuracy=99.35: 100%|██████████| 938/938 [00:16<00:00, 63.63it/s]\n"
          ],
          "name": "stderr"
        },
        {
          "output_type": "stream",
          "text": [
            "\n",
            "Test set: Average loss: 0.0233, Accuracy: 9937/10000 (99.37%)\n",
            "\n"
          ],
          "name": "stdout"
        }
      ]
    },
    {
      "cell_type": "markdown",
      "metadata": {
        "id": "2o99Jq1XTdo-",
        "colab_type": "text"
      },
      "source": [
        "## Result Analysis\n",
        "Plotting various metrics obtained during training and testing and analyzing them for futher improvement"
      ]
    },
    {
      "cell_type": "code",
      "metadata": {
        "id": "0X1Y72EbGgpr",
        "colab_type": "code",
        "outputId": "10c4ab40-8632-40f4-ecec-96a305bc2210",
        "colab": {
          "base_uri": "https://localhost:8080/",
          "height": 624
        }
      },
      "source": [
        "fig, axs = plt.subplots(2,2,figsize=(15,10))\n",
        "axs[0, 0].plot(train_losses)\n",
        "axs[0, 0].set_title(\"Training Loss\")\n",
        "axs[1, 0].plot(train_accuracies)\n",
        "axs[1, 0].set_title(\"Training Accuracy\")\n",
        "axs[0, 1].plot(test_losses)\n",
        "axs[0, 1].set_title(\"Test Loss\")\n",
        "axs[1, 1].plot(test_accuracies)\n",
        "axs[1, 1].set_title(\"Test Accuracy\")"
      ],
      "execution_count": 0,
      "outputs": [
        {
          "output_type": "execute_result",
          "data": {
            "text/plain": [
              "Text(0.5, 1.0, 'Test Accuracy')"
            ]
          },
          "metadata": {
            "tags": []
          },
          "execution_count": 69
        },
        {
          "output_type": "display_data",
          "data": {
            "image/png": "[encoded data removed]",
            "text/plain": [
              "<Figure size 1080x720 with 4 Axes>"
            ]
          },
          "metadata": {
            "tags": []
          }
        }
      ]
    },
    {
      "cell_type": "code",
      "metadata": {
        "id": "-NXcw_YvVk0J",
        "colab_type": "code",
        "colab": {}
      },
      "source": [
        ""
      ],
      "execution_count": 0,
      "outputs": []
    }
  ]
}