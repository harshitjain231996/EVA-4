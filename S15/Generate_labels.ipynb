{
  "nbformat": 4,
  "nbformat_minor": 0,
  "metadata": {
    "colab": {
      "name": "Generate_labels.ipynb",
      "provenance": []
    },
    "kernelspec": {
      "name": "python3",
      "display_name": "Python 3"
    }
  },
  "cells": [
    {
      "cell_type": "code",
      "metadata": {
        "id": "mZk-0d7jHfJT",
        "colab_type": "code",
        "colab": {
          "base_uri": "https://localhost:8080/",
          "height": 124
        },
        "outputId": "23e39ed8-c61b-46ef-d9e5-65840e32a9b7"
      },
      "source": [
        "from google.colab import drive\n",
        "drive.mount('/content/gdrive')"
      ],
      "execution_count": 1,
      "outputs": [
        {
          "output_type": "stream",
          "text": [
            "Go to this URL in a browser: https://accounts.google.com/o/oauth2/auth?client_id=947318989803-6bn6qk8qdgf4n4g3pfee6491hc0brc4i.apps.googleusercontent.com&redirect_uri=urn%3aietf%3awg%3aoauth%3a2.0%3aoob&response_type=code&scope=email%20https%3a%2f%2fwww.googleapis.com%2fauth%2fdocs.test%20https%3a%2f%2fwww.googleapis.com%2fauth%2fdrive%20https%3a%2f%2fwww.googleapis.com%2fauth%2fdrive.photos.readonly%20https%3a%2f%2fwww.googleapis.com%2fauth%2fpeopleapi.readonly\n",
            "\n",
            "Enter your authorization code:\n",
            "··········\n",
            "Mounted at /content/gdrive\n"
          ],
          "name": "stdout"
        }
      ]
    },
    {
      "cell_type": "code",
      "metadata": {
        "id": "Ug1eP9fDHtoG",
        "colab_type": "code",
        "colab": {
          "base_uri": "https://localhost:8080/",
          "height": 104
        },
        "outputId": "9ee991a7-3868-4345-a6a3-c9a51de33ef2"
      },
      "source": [
        "start =1 \n",
        "file = open(\"labels.txt\",\"w\")\n",
        "for part in range(1,6): #5 sets\n",
        "  for i in range(1,101): #background\n",
        "      for j in  range(1,21): #foreground\n",
        "        for k in range(1,21): \n",
        "            file.write(f\"Background/bg{i}.jpg\\tForeground/fg{j}.png\\tdata_{part}/Fg-Bg/fg-bg{start}.jpg\\tdata_{part}/Fg-Bg-Mask/fg-bg-mask{start}.jpg\\tdata_{part}/Depth/depth{start}.jpg\\n\")\n",
        "            start+=1\n",
        "            file.write(f\"Background/bg{i}.jpg\\tForeground/fg{j}.png\\tdata_{part}/Fg-Bg/fg-bg{start}.jpg\\tdata_{part}/Fg-Bg-Mask/fg-bg-mask{start}.jpg\\tdata_{part}/Depth/depth{start}.jpg\\n\")\n",
        "            start+=1\n",
        "\n",
        "  print(start)\n",
        "file.close()"
      ],
      "execution_count": 2,
      "outputs": [
        {
          "output_type": "stream",
          "text": [
            "80001\n",
            "160001\n",
            "240001\n",
            "320001\n",
            "400001\n"
          ],
          "name": "stdout"
        }
      ]
    },
    {
      "cell_type": "code",
      "metadata": {
        "id": "9dfnewVRH1sj",
        "colab_type": "code",
        "colab": {}
      },
      "source": [
        ""
      ],
      "execution_count": 0,
      "outputs": []
    }
  ]
}